{
 "cells": [
  {
   "cell_type": "markdown",
   "id": "d6e6a742",
   "metadata": {},
   "source": [
    "## ***1. Know Your Data***"
   ]
  },
  {
   "cell_type": "markdown",
   "id": "7e9ec3ce",
   "metadata": {},
   "source": [
    "## Import Libraries"
   ]
  },
  {
   "cell_type": "code",
   "execution_count": 4,
   "id": "6c984249",
   "metadata": {},
   "outputs": [],
   "source": [
    "import pandas as pd\n",
    "import numpy as np\n",
    "import seaborn as sns\n",
    "import matplotlib.pyplot as plt"
   ]
  },
  {
   "cell_type": "markdown",
   "id": "0d59feee",
   "metadata": {},
   "source": [
    "### Load dataset"
   ]
  },
  {
   "cell_type": "code",
   "execution_count": 6,
   "id": "f6f7a1a1",
   "metadata": {},
   "outputs": [],
   "source": [
    "df = pd.read_csv(\"../data/train/_classes.csv\")"
   ]
  },
  {
   "cell_type": "markdown",
   "id": "ad92533a",
   "metadata": {},
   "source": [
    "### Dataset First Look"
   ]
  },
  {
   "cell_type": "code",
   "execution_count": 7,
   "id": "3d1966bf",
   "metadata": {},
   "outputs": [
    {
     "data": {
      "text/html": [
       "<div>\n",
       "<style scoped>\n",
       "    .dataframe tbody tr th:only-of-type {\n",
       "        vertical-align: middle;\n",
       "    }\n",
       "\n",
       "    .dataframe tbody tr th {\n",
       "        vertical-align: top;\n",
       "    }\n",
       "\n",
       "    .dataframe thead th {\n",
       "        text-align: right;\n",
       "    }\n",
       "</style>\n",
       "<table border=\"1\" class=\"dataframe\">\n",
       "  <thead>\n",
       "    <tr style=\"text-align: right;\">\n",
       "      <th></th>\n",
       "      <th>filename</th>\n",
       "      <th>Glioma</th>\n",
       "      <th>Meningioma</th>\n",
       "      <th>No Tumor</th>\n",
       "      <th>Pituitary</th>\n",
       "    </tr>\n",
       "  </thead>\n",
       "  <tbody>\n",
       "    <tr>\n",
       "      <th>0</th>\n",
       "      <td>Tr-pi_0164_jpg.rf.000776527ec0acdc89e31e15a352...</td>\n",
       "      <td>0</td>\n",
       "      <td>0</td>\n",
       "      <td>0</td>\n",
       "      <td>1</td>\n",
       "    </tr>\n",
       "    <tr>\n",
       "      <th>1</th>\n",
       "      <td>Tr-no_0426_jpg.rf.0026b06f369c5d51aca4c4c9beba...</td>\n",
       "      <td>0</td>\n",
       "      <td>0</td>\n",
       "      <td>1</td>\n",
       "      <td>0</td>\n",
       "    </tr>\n",
       "    <tr>\n",
       "      <th>2</th>\n",
       "      <td>Tr-gl_0496_jpg.rf.010620fbbbaa509aa81d7ce5bdf7...</td>\n",
       "      <td>1</td>\n",
       "      <td>0</td>\n",
       "      <td>0</td>\n",
       "      <td>0</td>\n",
       "    </tr>\n",
       "    <tr>\n",
       "      <th>3</th>\n",
       "      <td>Tr-gl_0554_jpg.rf.010a72c1c25cc9ce83c77fbb23db...</td>\n",
       "      <td>1</td>\n",
       "      <td>0</td>\n",
       "      <td>0</td>\n",
       "      <td>0</td>\n",
       "    </tr>\n",
       "    <tr>\n",
       "      <th>4</th>\n",
       "      <td>Tr-me_0185_jpg.rf.0094b0b539582e2f95ae7b6ada4d...</td>\n",
       "      <td>0</td>\n",
       "      <td>1</td>\n",
       "      <td>0</td>\n",
       "      <td>0</td>\n",
       "    </tr>\n",
       "    <tr>\n",
       "      <th>...</th>\n",
       "      <td>...</td>\n",
       "      <td>...</td>\n",
       "      <td>...</td>\n",
       "      <td>...</td>\n",
       "      <td>...</td>\n",
       "    </tr>\n",
       "    <tr>\n",
       "      <th>1690</th>\n",
       "      <td>Tr-pi_0266_jpg.rf.be96620d2e87b7d1278a7cdebc31...</td>\n",
       "      <td>0</td>\n",
       "      <td>0</td>\n",
       "      <td>0</td>\n",
       "      <td>1</td>\n",
       "    </tr>\n",
       "    <tr>\n",
       "      <th>1691</th>\n",
       "      <td>Tr-no_0474_jpg.rf.bf5869c9603ce71575b58df92ca1...</td>\n",
       "      <td>0</td>\n",
       "      <td>0</td>\n",
       "      <td>1</td>\n",
       "      <td>0</td>\n",
       "    </tr>\n",
       "    <tr>\n",
       "      <th>1692</th>\n",
       "      <td>Tr-me_0356_jpg.rf.be4ba7e5211c086bdfb21a53ee6b...</td>\n",
       "      <td>0</td>\n",
       "      <td>1</td>\n",
       "      <td>0</td>\n",
       "      <td>0</td>\n",
       "    </tr>\n",
       "    <tr>\n",
       "      <th>1693</th>\n",
       "      <td>Tr-gl_0169_jpg.rf.bf25b05a8345a96e51560f67eed7...</td>\n",
       "      <td>1</td>\n",
       "      <td>0</td>\n",
       "      <td>0</td>\n",
       "      <td>0</td>\n",
       "    </tr>\n",
       "    <tr>\n",
       "      <th>1694</th>\n",
       "      <td>Tr-pi_0167_jpg.rf.bf3a10b82161ca3042c8e481b9c3...</td>\n",
       "      <td>0</td>\n",
       "      <td>0</td>\n",
       "      <td>0</td>\n",
       "      <td>1</td>\n",
       "    </tr>\n",
       "  </tbody>\n",
       "</table>\n",
       "<p>1695 rows × 5 columns</p>\n",
       "</div>"
      ],
      "text/plain": [
       "                                               filename   Glioma   Meningioma  \\\n",
       "0     Tr-pi_0164_jpg.rf.000776527ec0acdc89e31e15a352...        0            0   \n",
       "1     Tr-no_0426_jpg.rf.0026b06f369c5d51aca4c4c9beba...        0            0   \n",
       "2     Tr-gl_0496_jpg.rf.010620fbbbaa509aa81d7ce5bdf7...        1            0   \n",
       "3     Tr-gl_0554_jpg.rf.010a72c1c25cc9ce83c77fbb23db...        1            0   \n",
       "4     Tr-me_0185_jpg.rf.0094b0b539582e2f95ae7b6ada4d...        0            1   \n",
       "...                                                 ...      ...          ...   \n",
       "1690  Tr-pi_0266_jpg.rf.be96620d2e87b7d1278a7cdebc31...        0            0   \n",
       "1691  Tr-no_0474_jpg.rf.bf5869c9603ce71575b58df92ca1...        0            0   \n",
       "1692  Tr-me_0356_jpg.rf.be4ba7e5211c086bdfb21a53ee6b...        0            1   \n",
       "1693  Tr-gl_0169_jpg.rf.bf25b05a8345a96e51560f67eed7...        1            0   \n",
       "1694  Tr-pi_0167_jpg.rf.bf3a10b82161ca3042c8e481b9c3...        0            0   \n",
       "\n",
       "       No Tumor   Pituitary  \n",
       "0             0           1  \n",
       "1             1           0  \n",
       "2             0           0  \n",
       "3             0           0  \n",
       "4             0           0  \n",
       "...         ...         ...  \n",
       "1690          0           1  \n",
       "1691          1           0  \n",
       "1692          0           0  \n",
       "1693          0           0  \n",
       "1694          0           1  \n",
       "\n",
       "[1695 rows x 5 columns]"
      ]
     },
     "execution_count": 7,
     "metadata": {},
     "output_type": "execute_result"
    }
   ],
   "source": [
    "df"
   ]
  },
  {
   "cell_type": "markdown",
   "id": "6f5aec07",
   "metadata": {},
   "source": [
    "### Dataset Rows & Columns count"
   ]
  },
  {
   "cell_type": "code",
   "execution_count": 8,
   "id": "96ff121d",
   "metadata": {},
   "outputs": [
    {
     "data": {
      "text/html": [
       "<div>\n",
       "<style scoped>\n",
       "    .dataframe tbody tr th:only-of-type {\n",
       "        vertical-align: middle;\n",
       "    }\n",
       "\n",
       "    .dataframe tbody tr th {\n",
       "        vertical-align: top;\n",
       "    }\n",
       "\n",
       "    .dataframe thead th {\n",
       "        text-align: right;\n",
       "    }\n",
       "</style>\n",
       "<table border=\"1\" class=\"dataframe\">\n",
       "  <thead>\n",
       "    <tr style=\"text-align: right;\">\n",
       "      <th></th>\n",
       "      <th>filename</th>\n",
       "      <th>Glioma</th>\n",
       "      <th>Meningioma</th>\n",
       "      <th>No Tumor</th>\n",
       "      <th>Pituitary</th>\n",
       "    </tr>\n",
       "  </thead>\n",
       "  <tbody>\n",
       "    <tr>\n",
       "      <th>0</th>\n",
       "      <td>Tr-pi_0164_jpg.rf.000776527ec0acdc89e31e15a352...</td>\n",
       "      <td>0</td>\n",
       "      <td>0</td>\n",
       "      <td>0</td>\n",
       "      <td>1</td>\n",
       "    </tr>\n",
       "    <tr>\n",
       "      <th>1</th>\n",
       "      <td>Tr-no_0426_jpg.rf.0026b06f369c5d51aca4c4c9beba...</td>\n",
       "      <td>0</td>\n",
       "      <td>0</td>\n",
       "      <td>1</td>\n",
       "      <td>0</td>\n",
       "    </tr>\n",
       "    <tr>\n",
       "      <th>2</th>\n",
       "      <td>Tr-gl_0496_jpg.rf.010620fbbbaa509aa81d7ce5bdf7...</td>\n",
       "      <td>1</td>\n",
       "      <td>0</td>\n",
       "      <td>0</td>\n",
       "      <td>0</td>\n",
       "    </tr>\n",
       "    <tr>\n",
       "      <th>3</th>\n",
       "      <td>Tr-gl_0554_jpg.rf.010a72c1c25cc9ce83c77fbb23db...</td>\n",
       "      <td>1</td>\n",
       "      <td>0</td>\n",
       "      <td>0</td>\n",
       "      <td>0</td>\n",
       "    </tr>\n",
       "    <tr>\n",
       "      <th>4</th>\n",
       "      <td>Tr-me_0185_jpg.rf.0094b0b539582e2f95ae7b6ada4d...</td>\n",
       "      <td>0</td>\n",
       "      <td>1</td>\n",
       "      <td>0</td>\n",
       "      <td>0</td>\n",
       "    </tr>\n",
       "  </tbody>\n",
       "</table>\n",
       "</div>"
      ],
      "text/plain": [
       "                                            filename   Glioma   Meningioma  \\\n",
       "0  Tr-pi_0164_jpg.rf.000776527ec0acdc89e31e15a352...        0            0   \n",
       "1  Tr-no_0426_jpg.rf.0026b06f369c5d51aca4c4c9beba...        0            0   \n",
       "2  Tr-gl_0496_jpg.rf.010620fbbbaa509aa81d7ce5bdf7...        1            0   \n",
       "3  Tr-gl_0554_jpg.rf.010a72c1c25cc9ce83c77fbb23db...        1            0   \n",
       "4  Tr-me_0185_jpg.rf.0094b0b539582e2f95ae7b6ada4d...        0            1   \n",
       "\n",
       "    No Tumor   Pituitary  \n",
       "0          0           1  \n",
       "1          1           0  \n",
       "2          0           0  \n",
       "3          0           0  \n",
       "4          0           0  "
      ]
     },
     "execution_count": 8,
     "metadata": {},
     "output_type": "execute_result"
    }
   ],
   "source": [
    "df.head()"
   ]
  },
  {
   "cell_type": "markdown",
   "id": "add3ba32",
   "metadata": {},
   "source": [
    "### Dataset Info"
   ]
  },
  {
   "cell_type": "code",
   "execution_count": 9,
   "id": "06d60402",
   "metadata": {},
   "outputs": [
    {
     "name": "stdout",
     "output_type": "stream",
     "text": [
      "<class 'pandas.core.frame.DataFrame'>\n",
      "RangeIndex: 1695 entries, 0 to 1694\n",
      "Data columns (total 5 columns):\n",
      " #   Column       Non-Null Count  Dtype \n",
      "---  ------       --------------  ----- \n",
      " 0   filename     1695 non-null   object\n",
      " 1    Glioma      1695 non-null   int64 \n",
      " 2    Meningioma  1695 non-null   int64 \n",
      " 3    No Tumor    1695 non-null   int64 \n",
      " 4    Pituitary   1695 non-null   int64 \n",
      "dtypes: int64(4), object(1)\n",
      "memory usage: 66.3+ KB\n"
     ]
    }
   ],
   "source": [
    "df.info()"
   ]
  },
  {
   "cell_type": "markdown",
   "id": "48e8a280",
   "metadata": {},
   "source": [
    "### Dataset Duplicate Value Count"
   ]
  },
  {
   "cell_type": "code",
   "execution_count": 10,
   "id": "6114bd5a",
   "metadata": {},
   "outputs": [
    {
     "data": {
      "text/plain": [
       "0"
      ]
     },
     "execution_count": 10,
     "metadata": {},
     "output_type": "execute_result"
    }
   ],
   "source": [
    "df.duplicated().sum()"
   ]
  },
  {
   "cell_type": "markdown",
   "id": "b477a887",
   "metadata": {},
   "source": [
    "### Missing Values/Null Values Count"
   ]
  },
  {
   "cell_type": "code",
   "execution_count": 11,
   "id": "750c879f",
   "metadata": {},
   "outputs": [
    {
     "data": {
      "text/plain": [
       "filename       0\n",
       " Glioma        0\n",
       " Meningioma    0\n",
       " No Tumor      0\n",
       " Pituitary     0\n",
       "dtype: int64"
      ]
     },
     "execution_count": 11,
     "metadata": {},
     "output_type": "execute_result"
    }
   ],
   "source": [
    "df.isna().sum()"
   ]
  },
  {
   "cell_type": "markdown",
   "id": "885f879f",
   "metadata": {},
   "source": [
    "### Visualizing the missing values"
   ]
  },
  {
   "cell_type": "code",
   "execution_count": 12,
   "id": "518815ee",
   "metadata": {},
   "outputs": [
    {
     "data": {
      "image/png": "[encoded data removed]",
      "text/plain": [
       "<Figure size 1000x400 with 1 Axes>"
      ]
     },
     "metadata": {},
     "output_type": "display_data"
    }
   ],
   "source": [
    "plt.figure(figsize=(10, 4))\n",
    "sns.heatmap(df.isnull(), cbar=False, cmap='viridis', yticklabels=False)\n",
    "plt.title('Missing Values Heatmap')\n",
    "plt.show()"
   ]
  },
  {
   "cell_type": "markdown",
   "id": "1c693713",
   "metadata": {},
   "source": [
    "### What did you know about your dataset?"
   ]
  },
  {
   "cell_type": "markdown",
   "id": "e10a28bb",
   "metadata": {},
   "source": [
    "Answer - \n",
    "### The dataset _classes.csv consists of 1,695 entries with five columns: filename, Glioma, Meningioma, No Tumor, and Pituitary. Each row corresponds to an image file and its associated class labels. The dataset is clean, with no missing values or duplicate rows. The filename column contains unique image names, and the label columns use binary encoding where exactly one label is set to 1, indicating the presence of that tumor type, while the others are 0. This confirms the dataset is structured for a multi-class classification problem where each image belongs to exactly one of the four categories. Overall, the dataset is well-prepared for training an image classification model, with consistent formatting and no data quality issues detected."
   ]
  },
  {
   "cell_type": "markdown",
   "id": "87d5c4d9",
   "metadata": {},
   "source": [
    "## ***2. Understanding Your Variables***"
   ]
  },
  {
   "cell_type": "markdown",
   "id": "59eb8ebe",
   "metadata": {},
   "source": [
    "# Dataset Columns"
   ]
  },
  {
   "cell_type": "code",
   "execution_count": 15,
   "id": "4228aba0",
   "metadata": {},
   "outputs": [
    {
     "data": {
      "text/plain": [
       "Index(['filename', ' Glioma', ' Meningioma', ' No Tumor', ' Pituitary'], dtype='object')"
      ]
     },
     "execution_count": 15,
     "metadata": {},
     "output_type": "execute_result"
    }
   ],
   "source": [
    "df.columns"
   ]
  },
  {
   "cell_type": "markdown",
   "id": "64dad542",
   "metadata": {},
   "source": [
    "### Dataset Describe"
   ]
  },
  {
   "cell_type": "code",
   "execution_count": 17,
   "id": "5250f372",
   "metadata": {},
   "outputs": [
    {
     "data": {
      "text/html": [
       "<div>\n",
       "<style scoped>\n",
       "    .dataframe tbody tr th:only-of-type {\n",
       "        vertical-align: middle;\n",
       "    }\n",
       "\n",
       "    .dataframe tbody tr th {\n",
       "        vertical-align: top;\n",
       "    }\n",
       "\n",
       "    .dataframe thead th {\n",
       "        text-align: right;\n",
       "    }\n",
       "</style>\n",
       "<table border=\"1\" class=\"dataframe\">\n",
       "  <thead>\n",
       "    <tr style=\"text-align: right;\">\n",
       "      <th></th>\n",
       "      <th>Glioma</th>\n",
       "      <th>Meningioma</th>\n",
       "      <th>No Tumor</th>\n",
       "      <th>Pituitary</th>\n",
       "    </tr>\n",
       "  </thead>\n",
       "  <tbody>\n",
       "    <tr>\n",
       "      <th>count</th>\n",
       "      <td>1695.000000</td>\n",
       "      <td>1695.000000</td>\n",
       "      <td>1695.000000</td>\n",
       "      <td>1695.000000</td>\n",
       "    </tr>\n",
       "    <tr>\n",
       "      <th>mean</th>\n",
       "      <td>0.332743</td>\n",
       "      <td>0.211209</td>\n",
       "      <td>0.197640</td>\n",
       "      <td>0.258407</td>\n",
       "    </tr>\n",
       "    <tr>\n",
       "      <th>std</th>\n",
       "      <td>0.471335</td>\n",
       "      <td>0.408287</td>\n",
       "      <td>0.398337</td>\n",
       "      <td>0.437888</td>\n",
       "    </tr>\n",
       "    <tr>\n",
       "      <th>min</th>\n",
       "      <td>0.000000</td>\n",
       "      <td>0.000000</td>\n",
       "      <td>0.000000</td>\n",
       "      <td>0.000000</td>\n",
       "    </tr>\n",
       "    <tr>\n",
       "      <th>25%</th>\n",
       "      <td>0.000000</td>\n",
       "      <td>0.000000</td>\n",
       "      <td>0.000000</td>\n",
       "      <td>0.000000</td>\n",
       "    </tr>\n",
       "    <tr>\n",
       "      <th>50%</th>\n",
       "      <td>0.000000</td>\n",
       "      <td>0.000000</td>\n",
       "      <td>0.000000</td>\n",
       "      <td>0.000000</td>\n",
       "    </tr>\n",
       "    <tr>\n",
       "      <th>75%</th>\n",
       "      <td>1.000000</td>\n",
       "      <td>0.000000</td>\n",
       "      <td>0.000000</td>\n",
       "      <td>1.000000</td>\n",
       "    </tr>\n",
       "    <tr>\n",
       "      <th>max</th>\n",
       "      <td>1.000000</td>\n",
       "      <td>1.000000</td>\n",
       "      <td>1.000000</td>\n",
       "      <td>1.000000</td>\n",
       "    </tr>\n",
       "  </tbody>\n",
       "</table>\n",
       "</div>"
      ],
      "text/plain": [
       "            Glioma   Meningioma     No Tumor    Pituitary\n",
       "count  1695.000000  1695.000000  1695.000000  1695.000000\n",
       "mean      0.332743     0.211209     0.197640     0.258407\n",
       "std       0.471335     0.408287     0.398337     0.437888\n",
       "min       0.000000     0.000000     0.000000     0.000000\n",
       "25%       0.000000     0.000000     0.000000     0.000000\n",
       "50%       0.000000     0.000000     0.000000     0.000000\n",
       "75%       1.000000     0.000000     0.000000     1.000000\n",
       "max       1.000000     1.000000     1.000000     1.000000"
      ]
     },
     "execution_count": 17,
     "metadata": {},
     "output_type": "execute_result"
    }
   ],
   "source": [
    "df.describe()"
   ]
  },
  {
   "cell_type": "markdown",
   "id": "e00ff567",
   "metadata": {},
   "source": [
    "### Variables Description"
   ]
  },
  {
   "cell_type": "markdown",
   "id": "66b787d2",
   "metadata": {},
   "source": [
    "Answer - \n",
    "\n",
    "- Glioma\tint (0/1)\tBinary indicator (1 = image shows a glioma tumor, 0 = it does not).\n",
    "- Meningioma\tint (0/1)\tBinary indicator (1 = image shows a meningioma tumor, 0 = it does not).\n",
    "- No Tumor\tint (0/1)\tBinary indicator (1 = image shows no tumor, 0 = a tumor is present).\n",
    "- Pituitary\tint (0/1)\tBinary indicator (1 = image shows a pituitary tumor, 0 = it does not)."
   ]
  },
  {
   "cell_type": "markdown",
   "id": "04e5e249",
   "metadata": {},
   "source": [
    "### Check Unique Values for each variable."
   ]
  },
  {
   "cell_type": "code",
   "execution_count": 18,
   "id": "9d330821",
   "metadata": {},
   "outputs": [
    {
     "data": {
      "text/plain": [
       "(filename       1695\n",
       "  Glioma           2\n",
       "  Meningioma       2\n",
       "  No Tumor         2\n",
       "  Pituitary        2\n",
       " dtype: int64,\n",
       " {' Glioma': [0, 1],\n",
       "  ' Meningioma': [0, 1],\n",
       "  ' No Tumor': [0, 1],\n",
       "  ' Pituitary': [1, 0]})"
      ]
     },
     "execution_count": 18,
     "metadata": {},
     "output_type": "execute_result"
    }
   ],
   "source": [
    "unique_values = df.nunique()\n",
    "unique_label_values = {\n",
    "    column: df[column].unique().tolist()\n",
    "    for column in df.columns if column.strip() != \"filename\"\n",
    "}\n",
    "\n",
    "unique_values, unique_label_values"
   ]
  },
  {
   "cell_type": "markdown",
   "id": "db727db5",
   "metadata": {},
   "source": [
    "## ***3. Data Wrangling***"
   ]
  },
  {
   "cell_type": "markdown",
   "id": "d43ddc79",
   "metadata": {},
   "source": [
    "# Write your code to make your dataset analysis ready."
   ]
  },
  {
   "cell_type": "markdown",
   "id": "dc1925d9",
   "metadata": {},
   "source": [
    "### Convert Multi-Label to Single Class"
   ]
  },
  {
   "cell_type": "markdown",
   "id": "5c4b2152",
   "metadata": {},
   "source": [
    "# FOR TRAINING DATASET"
   ]
  },
  {
   "cell_type": "code",
   "execution_count": 21,
   "id": "9dcf7e48",
   "metadata": {},
   "outputs": [],
   "source": [
    "df.columns = df.columns.str.strip()"
   ]
  },
  {
   "cell_type": "markdown",
   "id": "c292017b",
   "metadata": {},
   "source": [
    "### Convert Multi-Label to Single Class"
   ]
  },
  {
   "cell_type": "code",
   "execution_count": 22,
   "id": "721c9d6e",
   "metadata": {},
   "outputs": [],
   "source": [
    "def extract_label(row):\n",
    "    for col in ['Glioma', 'Meningioma', 'No Tumor', 'Pituitary']:\n",
    "        if row[col] == 1:\n",
    "            return col\n",
    "df['label'] = df.apply(extract_label, axis=1)"
   ]
  },
  {
   "cell_type": "code",
   "execution_count": 25,
   "id": "9b1b013a",
   "metadata": {},
   "outputs": [
    {
     "data": {
      "text/html": [
       "<div>\n",
       "<style scoped>\n",
       "    .dataframe tbody tr th:only-of-type {\n",
       "        vertical-align: middle;\n",
       "    }\n",
       "\n",
       "    .dataframe tbody tr th {\n",
       "        vertical-align: top;\n",
       "    }\n",
       "\n",
       "    .dataframe thead th {\n",
       "        text-align: right;\n",
       "    }\n",
       "</style>\n",
       "<table border=\"1\" class=\"dataframe\">\n",
       "  <thead>\n",
       "    <tr style=\"text-align: right;\">\n",
       "      <th></th>\n",
       "      <th>filename</th>\n",
       "      <th>Glioma</th>\n",
       "      <th>Meningioma</th>\n",
       "      <th>No Tumor</th>\n",
       "      <th>Pituitary</th>\n",
       "      <th>label</th>\n",
       "    </tr>\n",
       "  </thead>\n",
       "  <tbody>\n",
       "    <tr>\n",
       "      <th>0</th>\n",
       "      <td>Tr-pi_0164_jpg.rf.000776527ec0acdc89e31e15a352...</td>\n",
       "      <td>0</td>\n",
       "      <td>0</td>\n",
       "      <td>0</td>\n",
       "      <td>1</td>\n",
       "      <td>Pituitary</td>\n",
       "    </tr>\n",
       "    <tr>\n",
       "      <th>1</th>\n",
       "      <td>Tr-no_0426_jpg.rf.0026b06f369c5d51aca4c4c9beba...</td>\n",
       "      <td>0</td>\n",
       "      <td>0</td>\n",
       "      <td>1</td>\n",
       "      <td>0</td>\n",
       "      <td>No Tumor</td>\n",
       "    </tr>\n",
       "    <tr>\n",
       "      <th>2</th>\n",
       "      <td>Tr-gl_0496_jpg.rf.010620fbbbaa509aa81d7ce5bdf7...</td>\n",
       "      <td>1</td>\n",
       "      <td>0</td>\n",
       "      <td>0</td>\n",
       "      <td>0</td>\n",
       "      <td>Glioma</td>\n",
       "    </tr>\n",
       "    <tr>\n",
       "      <th>3</th>\n",
       "      <td>Tr-gl_0554_jpg.rf.010a72c1c25cc9ce83c77fbb23db...</td>\n",
       "      <td>1</td>\n",
       "      <td>0</td>\n",
       "      <td>0</td>\n",
       "      <td>0</td>\n",
       "      <td>Glioma</td>\n",
       "    </tr>\n",
       "    <tr>\n",
       "      <th>4</th>\n",
       "      <td>Tr-me_0185_jpg.rf.0094b0b539582e2f95ae7b6ada4d...</td>\n",
       "      <td>0</td>\n",
       "      <td>1</td>\n",
       "      <td>0</td>\n",
       "      <td>0</td>\n",
       "      <td>Meningioma</td>\n",
       "    </tr>\n",
       "  </tbody>\n",
       "</table>\n",
       "</div>"
      ],
      "text/plain": [
       "                                            filename  Glioma  Meningioma  \\\n",
       "0  Tr-pi_0164_jpg.rf.000776527ec0acdc89e31e15a352...       0           0   \n",
       "1  Tr-no_0426_jpg.rf.0026b06f369c5d51aca4c4c9beba...       0           0   \n",
       "2  Tr-gl_0496_jpg.rf.010620fbbbaa509aa81d7ce5bdf7...       1           0   \n",
       "3  Tr-gl_0554_jpg.rf.010a72c1c25cc9ce83c77fbb23db...       1           0   \n",
       "4  Tr-me_0185_jpg.rf.0094b0b539582e2f95ae7b6ada4d...       0           1   \n",
       "\n",
       "   No Tumor  Pituitary       label  \n",
       "0         0          1   Pituitary  \n",
       "1         1          0    No Tumor  \n",
       "2         0          0      Glioma  \n",
       "3         0          0      Glioma  \n",
       "4         0          0  Meningioma  "
      ]
     },
     "execution_count": 25,
     "metadata": {},
     "output_type": "execute_result"
    }
   ],
   "source": [
    "df.head()"
   ]
  },
  {
   "cell_type": "markdown",
   "id": "fd5bbb65",
   "metadata": {},
   "source": [
    "### Clean and Normalize Labels"
   ]
  },
  {
   "cell_type": "code",
   "execution_count": 23,
   "id": "7c98ed51",
   "metadata": {},
   "outputs": [],
   "source": [
    "df.columns = df.columns.str.strip()\n",
    "df['label'] = df['label'].str.strip()"
   ]
  },
  {
   "cell_type": "markdown",
   "id": "7ffaad11",
   "metadata": {},
   "source": [
    "### Basic EDA"
   ]
  },
  {
   "cell_type": "code",
   "execution_count": 24,
   "id": "366821dc",
   "metadata": {},
   "outputs": [
    {
     "name": "stdout",
     "output_type": "stream",
     "text": [
      "label\n",
      "Glioma        564\n",
      "Pituitary     438\n",
      "Meningioma    358\n",
      "No Tumor      335\n",
      "Name: count, dtype: int64\n"
     ]
    }
   ],
   "source": [
    "print(df['label'].value_counts())"
   ]
  },
  {
   "cell_type": "markdown",
   "id": "25c8c9ed",
   "metadata": {},
   "source": [
    "# FOR TESTING DATA"
   ]
  },
  {
   "cell_type": "code",
   "execution_count": 26,
   "id": "68feadea",
   "metadata": {},
   "outputs": [],
   "source": [
    "df_test = pd.read_csv(\"../data/test/_classes.csv\")"
   ]
  },
  {
   "cell_type": "code",
   "execution_count": 41,
   "id": "fea58f9c",
   "metadata": {},
   "outputs": [
    {
     "data": {
      "text/plain": [
       "filename      0\n",
       "Glioma        0\n",
       "Meningioma    0\n",
       "No Tumor      0\n",
       "Pituitary     0\n",
       "label         0\n",
       "dtype: int64"
      ]
     },
     "execution_count": 41,
     "metadata": {},
     "output_type": "execute_result"
    }
   ],
   "source": [
    "df_test.isna().sum()"
   ]
  },
  {
   "cell_type": "code",
   "execution_count": 29,
   "id": "e3556ec9",
   "metadata": {},
   "outputs": [],
   "source": [
    "df_test.columns = df_test.columns.str.strip()"
   ]
  },
  {
   "cell_type": "code",
   "execution_count": 30,
   "id": "d26bee36",
   "metadata": {},
   "outputs": [],
   "source": [
    "def extract_label(row):\n",
    "    for col in ['Glioma', 'Meningioma', 'No Tumor', 'Pituitary']:\n",
    "        if row[col] == 1:\n",
    "            return col\n",
    "df_test['label'] = df_test.apply(extract_label, axis=1)"
   ]
  },
  {
   "cell_type": "code",
   "execution_count": 39,
   "id": "2004dc19",
   "metadata": {},
   "outputs": [
    {
     "data": {
      "text/html": [
       "<div>\n",
       "<style scoped>\n",
       "    .dataframe tbody tr th:only-of-type {\n",
       "        vertical-align: middle;\n",
       "    }\n",
       "\n",
       "    .dataframe tbody tr th {\n",
       "        vertical-align: top;\n",
       "    }\n",
       "\n",
       "    .dataframe thead th {\n",
       "        text-align: right;\n",
       "    }\n",
       "</style>\n",
       "<table border=\"1\" class=\"dataframe\">\n",
       "  <thead>\n",
       "    <tr style=\"text-align: right;\">\n",
       "      <th></th>\n",
       "      <th>filename</th>\n",
       "      <th>Glioma</th>\n",
       "      <th>Meningioma</th>\n",
       "      <th>No Tumor</th>\n",
       "      <th>Pituitary</th>\n",
       "      <th>label</th>\n",
       "    </tr>\n",
       "  </thead>\n",
       "  <tbody>\n",
       "    <tr>\n",
       "      <th>0</th>\n",
       "      <td>Tr-me_0044_jpg.rf.0223369274dd825d3ff27ace105f...</td>\n",
       "      <td>0</td>\n",
       "      <td>1</td>\n",
       "      <td>0</td>\n",
       "      <td>0</td>\n",
       "      <td>Meningioma</td>\n",
       "    </tr>\n",
       "    <tr>\n",
       "      <th>1</th>\n",
       "      <td>Tr-gl_0094_jpg.rf.1c0f0e197cfcf7728469ebc07bc6...</td>\n",
       "      <td>1</td>\n",
       "      <td>0</td>\n",
       "      <td>0</td>\n",
       "      <td>0</td>\n",
       "      <td>Glioma</td>\n",
       "    </tr>\n",
       "    <tr>\n",
       "      <th>2</th>\n",
       "      <td>Tr-pi_0130_jpg.rf.15adee5c88949e10f62a9c54294a...</td>\n",
       "      <td>0</td>\n",
       "      <td>0</td>\n",
       "      <td>0</td>\n",
       "      <td>1</td>\n",
       "      <td>Pituitary</td>\n",
       "    </tr>\n",
       "    <tr>\n",
       "      <th>3</th>\n",
       "      <td>Tr-gl_0386_jpg.rf.1323d579421a7a8b821ce882e2a0...</td>\n",
       "      <td>1</td>\n",
       "      <td>0</td>\n",
       "      <td>0</td>\n",
       "      <td>0</td>\n",
       "      <td>Glioma</td>\n",
       "    </tr>\n",
       "    <tr>\n",
       "      <th>4</th>\n",
       "      <td>Tr-no_0477_jpg.rf.19bfdb70a263ae878bd1a2b39719...</td>\n",
       "      <td>0</td>\n",
       "      <td>0</td>\n",
       "      <td>1</td>\n",
       "      <td>0</td>\n",
       "      <td>No Tumor</td>\n",
       "    </tr>\n",
       "  </tbody>\n",
       "</table>\n",
       "</div>"
      ],
      "text/plain": [
       "                                            filename  Glioma  Meningioma  \\\n",
       "0  Tr-me_0044_jpg.rf.0223369274dd825d3ff27ace105f...       0           1   \n",
       "1  Tr-gl_0094_jpg.rf.1c0f0e197cfcf7728469ebc07bc6...       1           0   \n",
       "2  Tr-pi_0130_jpg.rf.15adee5c88949e10f62a9c54294a...       0           0   \n",
       "3  Tr-gl_0386_jpg.rf.1323d579421a7a8b821ce882e2a0...       1           0   \n",
       "4  Tr-no_0477_jpg.rf.19bfdb70a263ae878bd1a2b39719...       0           0   \n",
       "\n",
       "   No Tumor  Pituitary       label  \n",
       "0         0          0  Meningioma  \n",
       "1         0          0      Glioma  \n",
       "2         0          1   Pituitary  \n",
       "3         0          0      Glioma  \n",
       "4         1          0    No Tumor  "
      ]
     },
     "execution_count": 39,
     "metadata": {},
     "output_type": "execute_result"
    }
   ],
   "source": [
    "df_test.head()"
   ]
  },
  {
   "cell_type": "code",
   "execution_count": 40,
   "id": "8de61d36",
   "metadata": {},
   "outputs": [],
   "source": [
    "df_test.columns = df_test.columns.str.strip()\n",
    "df_test['label'] = df_test['label'].str.strip()"
   ]
  },
  {
   "cell_type": "code",
   "execution_count": 35,
   "id": "abb42001",
   "metadata": {},
   "outputs": [
    {
     "name": "stdout",
     "output_type": "stream",
     "text": [
      "label\n",
      "Glioma        80\n",
      "Meningioma    63\n",
      "Pituitary     54\n",
      "No Tumor      49\n",
      "Name: count, dtype: int64\n"
     ]
    }
   ],
   "source": [
    "print(df_test['label'].value_counts())"
   ]
  },
  {
   "cell_type": "markdown",
   "id": "f43745aa",
   "metadata": {},
   "source": [
    "# FOR VALIDATION DATASET"
   ]
  },
  {
   "cell_type": "code",
   "execution_count": 37,
   "id": "af550fb1",
   "metadata": {},
   "outputs": [],
   "source": [
    "df_valid = pd.read_csv(\"../data/valid/_classes.csv\")"
   ]
  },
  {
   "cell_type": "code",
   "execution_count": 42,
   "id": "10fa1375",
   "metadata": {},
   "outputs": [
    {
     "data": {
      "text/plain": [
       "filename       0\n",
       " Glioma        0\n",
       " Meningioma    0\n",
       " No Tumor      0\n",
       " Pituitary     0\n",
       "dtype: int64"
      ]
     },
     "execution_count": 42,
     "metadata": {},
     "output_type": "execute_result"
    }
   ],
   "source": [
    "df_valid.isna().sum()"
   ]
  },
  {
   "cell_type": "code",
   "execution_count": 43,
   "id": "bf48ea82",
   "metadata": {},
   "outputs": [],
   "source": [
    "df_valid.columns = df_valid.columns.str.strip()"
   ]
  },
  {
   "cell_type": "code",
   "execution_count": 44,
   "id": "eebed10d",
   "metadata": {},
   "outputs": [],
   "source": [
    "def extract_label(row):\n",
    "    for col in ['Glioma', 'Meningioma', 'No Tumor', 'Pituitary']:\n",
    "        if row[col] == 1:\n",
    "            return col\n",
    "df_valid['label'] = df_valid.apply(extract_label, axis=1)"
   ]
  },
  {
   "cell_type": "code",
   "execution_count": 46,
   "id": "04be4126",
   "metadata": {},
   "outputs": [
    {
     "data": {
      "text/html": [
       "<div>\n",
       "<style scoped>\n",
       "    .dataframe tbody tr th:only-of-type {\n",
       "        vertical-align: middle;\n",
       "    }\n",
       "\n",
       "    .dataframe tbody tr th {\n",
       "        vertical-align: top;\n",
       "    }\n",
       "\n",
       "    .dataframe thead th {\n",
       "        text-align: right;\n",
       "    }\n",
       "</style>\n",
       "<table border=\"1\" class=\"dataframe\">\n",
       "  <thead>\n",
       "    <tr style=\"text-align: right;\">\n",
       "      <th></th>\n",
       "      <th>filename</th>\n",
       "      <th>Glioma</th>\n",
       "      <th>Meningioma</th>\n",
       "      <th>No Tumor</th>\n",
       "      <th>Pituitary</th>\n",
       "      <th>label</th>\n",
       "    </tr>\n",
       "  </thead>\n",
       "  <tbody>\n",
       "    <tr>\n",
       "      <th>0</th>\n",
       "      <td>Tr-me_0034_jpg.rf.623f1cc8f30e4ef5baa02759f4f9...</td>\n",
       "      <td>0</td>\n",
       "      <td>1</td>\n",
       "      <td>0</td>\n",
       "      <td>0</td>\n",
       "      <td>Meningioma</td>\n",
       "    </tr>\n",
       "    <tr>\n",
       "      <th>1</th>\n",
       "      <td>Tr-pi_0310_jpg.rf.6a7af3a7e47e29504b29815e7e25...</td>\n",
       "      <td>0</td>\n",
       "      <td>0</td>\n",
       "      <td>0</td>\n",
       "      <td>1</td>\n",
       "      <td>Pituitary</td>\n",
       "    </tr>\n",
       "    <tr>\n",
       "      <th>2</th>\n",
       "      <td>Tr-gl_0239_jpg.rf.6e5cff37515b73707663e8ff1537...</td>\n",
       "      <td>1</td>\n",
       "      <td>0</td>\n",
       "      <td>0</td>\n",
       "      <td>0</td>\n",
       "      <td>Glioma</td>\n",
       "    </tr>\n",
       "    <tr>\n",
       "      <th>3</th>\n",
       "      <td>Tr-no_0052_jpg.rf.6a63634edac060a9076b23ce6f6f...</td>\n",
       "      <td>0</td>\n",
       "      <td>0</td>\n",
       "      <td>1</td>\n",
       "      <td>0</td>\n",
       "      <td>No Tumor</td>\n",
       "    </tr>\n",
       "    <tr>\n",
       "      <th>4</th>\n",
       "      <td>Tr-gl_0550_jpg.rf.667b7e2e928c9e4ac209da273de2...</td>\n",
       "      <td>1</td>\n",
       "      <td>0</td>\n",
       "      <td>0</td>\n",
       "      <td>0</td>\n",
       "      <td>Glioma</td>\n",
       "    </tr>\n",
       "  </tbody>\n",
       "</table>\n",
       "</div>"
      ],
      "text/plain": [
       "                                            filename  Glioma  Meningioma  \\\n",
       "0  Tr-me_0034_jpg.rf.623f1cc8f30e4ef5baa02759f4f9...       0           1   \n",
       "1  Tr-pi_0310_jpg.rf.6a7af3a7e47e29504b29815e7e25...       0           0   \n",
       "2  Tr-gl_0239_jpg.rf.6e5cff37515b73707663e8ff1537...       1           0   \n",
       "3  Tr-no_0052_jpg.rf.6a63634edac060a9076b23ce6f6f...       0           0   \n",
       "4  Tr-gl_0550_jpg.rf.667b7e2e928c9e4ac209da273de2...       1           0   \n",
       "\n",
       "   No Tumor  Pituitary       label  \n",
       "0         0          0  Meningioma  \n",
       "1         0          1   Pituitary  \n",
       "2         0          0      Glioma  \n",
       "3         1          0    No Tumor  \n",
       "4         0          0      Glioma  "
      ]
     },
     "execution_count": 46,
     "metadata": {},
     "output_type": "execute_result"
    }
   ],
   "source": [
    "df_valid.head()"
   ]
  },
  {
   "cell_type": "code",
   "execution_count": 47,
   "id": "6bc6b075",
   "metadata": {},
   "outputs": [],
   "source": [
    "df_valid.columns = df_valid.columns.str.strip()\n",
    "df_valid['label'] = df_valid['label'].str.strip()"
   ]
  },
  {
   "cell_type": "code",
   "execution_count": 48,
   "id": "187bcc2c",
   "metadata": {},
   "outputs": [
    {
     "name": "stdout",
     "output_type": "stream",
     "text": [
      "label\n",
      "Glioma        161\n",
      "Meningioma    124\n",
      "Pituitary     118\n",
      "No Tumor       99\n",
      "Name: count, dtype: int64\n"
     ]
    }
   ],
   "source": [
    "print(df_valid['label'].value_counts())"
   ]
  },
  {
   "cell_type": "markdown",
   "id": "406d8c9f",
   "metadata": {},
   "source": [
    "### What all manipulations have you done and insights you found?"
   ]
  },
  {
   "cell_type": "markdown",
   "id": "99b0b89f",
   "metadata": {},
   "source": [
    "### In the course of analyzing and preparing the dataset for a CNN-based image classification task, several important manipulations and checks were performed. Initially, the dataset was inspected for structural integrity — it contained 1,695 entries with five columns: filename, Glioma, Meningioma, No Tumor, and Pituitary. A check for missing values revealed that there were no null entries in the dataset, ensuring completeness. Duplicate rows were also checked and none were found, confirming that each image entry was unique. Column names were found to contain unwanted leading or trailing spaces, which were removed to ensure consistent access during data processing. One-hot encoded labels were then converted into a single categorical label column using a custom function, allowing each image to be tagged with one distinct class label such as \"Glioma\" or \"No Tumor\". An additional validation step confirmed that every row had exactly one class label marked as 1, verifying that the dataset is suitable for single-label, multi-class classification. Overall, the dataset is clean, well-structured, and ready for use in a CNN training pipeline."
   ]
  },
  {
   "cell_type": "markdown",
   "id": "469d0da6",
   "metadata": {},
   "source": [
    "## ***4. Data Vizualization, Storytelling & Experimenting with charts : Understand the relationships between variables***"
   ]
  },
  {
   "cell_type": "markdown",
   "id": "14071301",
   "metadata": {},
   "source": [
    "## Chart 1"
   ]
  },
  {
   "cell_type": "code",
   "execution_count": 50,
   "id": "5f8f06fa",
   "metadata": {},
   "outputs": [],
   "source": [
    "figures = {}"
   ]
  },
  {
   "cell_type": "code",
   "execution_count": 51,
   "id": "9cc986b9",
   "metadata": {},
   "outputs": [
    {
     "data": {
      "image/png": "[encoded data removed]",
      "text/plain": [
       "<Figure size 640x480 with 1 Axes>"
      ]
     },
     "metadata": {},
     "output_type": "display_data"
    }
   ],
   "source": [
    "fig1, ax1 = plt.subplots()\n",
    "df['label'].value_counts().plot(kind='bar', ax=ax1, color='skyblue')\n",
    "ax1.set_title('Class Distribution of Tumor Types')\n",
    "ax1.set_ylabel('Number of Images')\n",
    "figures['bar_plot'] = fig1"
   ]
  },
  {
   "cell_type": "markdown",
   "id": "b8b4593e",
   "metadata": {},
   "source": [
    "##### 1. Why did you pick the specific chart?"
   ]
  },
  {
   "cell_type": "markdown",
   "id": "fffa6bb8",
   "metadata": {},
   "source": [
    "####  A bar chart is ideal for visualizing categorical frequency."
   ]
  },
  {
   "cell_type": "markdown",
   "id": "43721f60",
   "metadata": {},
   "source": [
    "##### 2. What is/are the insight(s) found from the chart?"
   ]
  },
  {
   "cell_type": "markdown",
   "id": "7b239380",
   "metadata": {},
   "source": [
    "#### This shows how many images belong to each tumor class (Glioma, Meningioma, No Tumor, Pituitary). You can immediately spot if the dataset is imbalanced."
   ]
  },
  {
   "cell_type": "markdown",
   "id": "b34d4dea",
   "metadata": {},
   "source": [
    "## Chart 2"
   ]
  },
  {
   "cell_type": "code",
   "execution_count": 52,
   "id": "16cd703f",
   "metadata": {},
   "outputs": [
    {
     "data": {
      "image/png": "[encoded data removed]",
      "text/plain": [
       "<Figure size 640x480 with 1 Axes>"
      ]
     },
     "metadata": {},
     "output_type": "display_data"
    }
   ],
   "source": [
    "fig2, ax2 = plt.subplots()\n",
    "df['label'].value_counts().plot.pie(autopct='%1.1f%%', ax=ax2)\n",
    "ax2.set_ylabel('')\n",
    "ax2.set_title('Proportional Distribution of Tumor Classes')\n",
    "figures['pie_chart'] = fig2"
   ]
  },
  {
   "cell_type": "markdown",
   "id": "6f0e06a1",
   "metadata": {},
   "source": [
    "##### 1. Why did you pick the specific chart?"
   ]
  },
  {
   "cell_type": "markdown",
   "id": "385e3208",
   "metadata": {},
   "source": [
    "#### Pie charts are great for understanding percentage-based composition."
   ]
  },
  {
   "cell_type": "markdown",
   "id": "182ff8ee",
   "metadata": {},
   "source": [
    "##### 2. What is/are the insight(s) found from the chart?"
   ]
  },
  {
   "cell_type": "markdown",
   "id": "c7c655d2",
   "metadata": {},
   "source": [
    "#### You can observe the proportion of each tumor class in the entire dataset. Useful for identifying if some classes dominate in percentage share."
   ]
  },
  {
   "cell_type": "markdown",
   "id": "c855a178",
   "metadata": {},
   "source": [
    "## Chart 3"
   ]
  },
  {
   "cell_type": "code",
   "execution_count": 56,
   "id": "a7e6921b",
   "metadata": {},
   "outputs": [
    {
     "data": {
      "image/png": "[encoded data removed]",
      "text/plain": [
       "<Figure size 640x480 with 1 Axes>"
      ]
     },
     "metadata": {},
     "output_type": "display_data"
    }
   ],
   "source": [
    "fig3, ax3 = plt.subplots()\n",
    "sns.countplot(data=df, x='label', hue='label', ax=ax3, palette='pastel', legend=False)\n",
    "ax3.set_title('Tumor Class Frequency')\n",
    "figures['count_plot'] = fig3"
   ]
  },
  {
   "cell_type": "markdown",
   "id": "0b48bfaa",
   "metadata": {},
   "source": [
    "##### 1. Why did you pick the specific chart?"
   ]
  },
  {
   "cell_type": "markdown",
   "id": "5877c389",
   "metadata": {},
   "source": [
    "####  Like a bar chart, but integrates better with seaborn aesthetics and can group by hue if needed."
   ]
  },
  {
   "cell_type": "markdown",
   "id": "b2fdfd68",
   "metadata": {},
   "source": [
    "##### 2. What is/are the insight(s) found from the chart?"
   ]
  },
  {
   "cell_type": "markdown",
   "id": "ffe19fb6",
   "metadata": {},
   "source": [
    "#### Reinforces the bar chart but is more adaptable if you wish to visualize counts across additional factors (e.g., grouped by data split later)."
   ]
  },
  {
   "cell_type": "markdown",
   "id": "fbe2d111",
   "metadata": {},
   "source": [
    "## Chart 4"
   ]
  },
  {
   "cell_type": "code",
   "execution_count": 58,
   "id": "e4676166",
   "metadata": {},
   "outputs": [
    {
     "data": {
      "image/png": "[encoded data removed]",
      "text/plain": [
       "<Figure size 640x480 with 1 Axes>"
      ]
     },
     "metadata": {},
     "output_type": "display_data"
    }
   ],
   "source": [
    "fig4, ax4 = plt.subplots()\n",
    "df['label'].value_counts().plot(kind='hist', bins=4, rwidth=0.8, ax=ax4, color='orange')\n",
    "ax4.set_title('Histogram of Tumor Classes')\n",
    "ax4.set_xlabel('Number of Images')\n",
    "figures['histogram'] = fig4"
   ]
  },
  {
   "cell_type": "markdown",
   "id": "ec14c676",
   "metadata": {},
   "source": [
    "##### 1. Why did you pick the specific chart?"
   ]
  },
  {
   "cell_type": "markdown",
   "id": "80f79e7a",
   "metadata": {},
   "source": [
    "#### A histogram shows distribution along a continuous or bucketed range."
   ]
  },
  {
   "cell_type": "markdown",
   "id": "e2ee51af",
   "metadata": {},
   "source": [
    "##### 2. What is/are the insight(s) found from the chart?"
   ]
  },
  {
   "cell_type": "markdown",
   "id": "ff79af53",
   "metadata": {},
   "source": [
    "####  Although the classes are categorical, using histograms can still give a visual density feel (especially with small datasets) and helps reveal skewness.\n",
    "\n"
   ]
  },
  {
   "cell_type": "markdown",
   "id": "c8c189af",
   "metadata": {},
   "source": [
    "## Chart 5"
   ]
  },
  {
   "cell_type": "code",
   "execution_count": 60,
   "id": "20aefaf0",
   "metadata": {},
   "outputs": [
    {
     "data": {
      "image/png": "[encoded data removed]",
      "text/plain": [
       "<Figure size 640x480 with 1 Axes>"
      ]
     },
     "metadata": {},
     "output_type": "display_data"
    }
   ],
   "source": [
    "fig5, ax5 = plt.subplots()\n",
    "sizes = df['label'].value_counts()\n",
    "labels = sizes.index\n",
    "wedges, texts, autotexts = ax5.pie(sizes, autopct='%1.1f%%', startangle=90, wedgeprops=dict(width=0.4))\n",
    "ax5.legend(labels, title=\"Tumor Type\", loc=\"center left\", bbox_to_anchor=(1, 0, 0.5, 1))\n",
    "ax5.set_title(\"Donut Chart of Tumor Type Distribution\")\n",
    "figures['donut_chart'] = fig5"
   ]
  },
  {
   "cell_type": "markdown",
   "id": "ef556ed2",
   "metadata": {},
   "source": [
    "##### 1. Why did you pick the specific chart?"
   ]
  },
  {
   "cell_type": "markdown",
   "id": "0c53945d",
   "metadata": {},
   "source": [
    "#### Aesthetic alternative to the pie chart; easier to annotate and interpret visually."
   ]
  },
  {
   "cell_type": "markdown",
   "id": "8843a50f",
   "metadata": {},
   "source": [
    "##### 2. What is/are the insight(s) found from the chart?"
   ]
  },
  {
   "cell_type": "markdown",
   "id": "b24312b3",
   "metadata": {},
   "source": [
    "#### Same as the pie chart, but with better use of space and more readable legend placement."
   ]
  },
  {
   "cell_type": "code",
   "execution_count": 61,
   "id": "c3803d41",
   "metadata": {},
   "outputs": [
    {
     "data": {
      "text/plain": [
       "{'bar_plot': <Figure size 640x480 with 1 Axes>,\n",
       " 'pie_chart': <Figure size 640x480 with 1 Axes>,\n",
       " 'count_plot': <Figure size 640x480 with 1 Axes>,\n",
       " 'histogram': <Figure size 640x480 with 1 Axes>,\n",
       " 'donut_chart': <Figure size 640x480 with 1 Axes>}"
      ]
     },
     "execution_count": 61,
     "metadata": {},
     "output_type": "execute_result"
    }
   ],
   "source": [
    "figures"
   ]
  },
  {
   "cell_type": "markdown",
   "id": "02d33a8b",
   "metadata": {},
   "source": [
    "## Chart 6 - Correlation Heatmap visualization code"
   ]
  },
  {
   "cell_type": "code",
   "execution_count": 65,
   "id": "cf52503c",
   "metadata": {},
   "outputs": [],
   "source": [
    "label_cols = ['Glioma', 'Meningioma', 'No Tumor', 'Pituitary']\n",
    "corr_matrix = df[label_cols].corr()"
   ]
  },
  {
   "cell_type": "code",
   "execution_count": 66,
   "id": "a992d5a6",
   "metadata": {},
   "outputs": [
    {
     "data": {
      "image/png": "[encoded data removed]",
      "text/plain": [
       "<Figure size 600x400 with 2 Axes>"
      ]
     },
     "metadata": {},
     "output_type": "display_data"
    }
   ],
   "source": [
    "# Plot correlation heatmap\n",
    "plt.figure(figsize=(6, 4))\n",
    "sns.heatmap(corr_matrix, annot=True, cmap='coolwarm', fmt='.2f', square=True)\n",
    "plt.title('Correlation Heatmap of Tumor Classes')\n",
    "plt.tight_layout()\n",
    "plt.show()"
   ]
  },
  {
   "cell_type": "markdown",
   "id": "cd86cc9e",
   "metadata": {},
   "source": [
    "##### 1. Why did you pick the specific chart?"
   ]
  },
  {
   "cell_type": "markdown",
   "id": "f1ca5642",
   "metadata": {},
   "source": [
    "- The correlation heatmap shows linear relationships between class labels.\n",
    "- A good heatmap should show negative correlations or zero, because the classes are mutually exclusive."
   ]
  },
  {
   "cell_type": "markdown",
   "id": "e9b0c930",
   "metadata": {},
   "source": [
    "##### 2. What is/are the insight(s) found from the chart?"
   ]
  },
  {
   "cell_type": "markdown",
   "id": "61e80f3e",
   "metadata": {},
   "source": [
    "- Mostly -1 or 0 correlation between different class columns.\n",
    "\n",
    "- Diagonal values will always be 1.00 (self-correlation)."
   ]
  },
  {
   "cell_type": "markdown",
   "id": "c913657e",
   "metadata": {},
   "source": [
    "## Chart 7 -  Pair Plot visualization code"
   ]
  },
  {
   "cell_type": "code",
   "execution_count": 67,
   "id": "8bbdc784",
   "metadata": {},
   "outputs": [
    {
     "data": {
      "image/png": "[encoded data removed]",
      "text/plain": [
       "<Figure size 1000x1000 with 20 Axes>"
      ]
     },
     "metadata": {},
     "output_type": "display_data"
    }
   ],
   "source": [
    "sns.pairplot(df[label_cols])\n",
    "plt.suptitle(\"Pair Plot of Tumor Class Labels\", y=1.02)\n",
    "plt.show()"
   ]
  },
  {
   "cell_type": "markdown",
   "id": "8583c38e",
   "metadata": {},
   "source": [
    "##### 1. Why did you pick the specific chart?"
   ]
  },
  {
   "cell_type": "markdown",
   "id": "c1f23be5",
   "metadata": {},
   "source": [
    "- A pair plot is used to visualize pairwise relationships between multiple variables.\n",
    "\n",
    "- Even though  variables are binary (0 or 1), this chart can still reveal patterns or issues like class overlap or improper encoding.\n",
    "\n"
   ]
  },
  {
   "cell_type": "markdown",
   "id": "0116cc25",
   "metadata": {},
   "source": [
    "##### 2. What is/are the insight(s) found from the chart?"
   ]
  },
  {
   "cell_type": "markdown",
   "id": "b829791e",
   "metadata": {},
   "source": [
    "- Each scatter plot will compare two labels.\n",
    "\n",
    "- Since only one label is 1 per row in dataset:\n",
    "\n",
    "    - We should see minimal or no overlap between the scatter plot dots.\n",
    "\n",
    "    -  Any overlapping points could suggest potential data labeling issues."
   ]
  },
  {
   "cell_type": "markdown",
   "id": "8aa78c59",
   "metadata": {},
   "source": [
    "## ***5. Hypothesis Testing***"
   ]
  },
  {
   "cell_type": "markdown",
   "id": "247f6cb8",
   "metadata": {},
   "source": [
    "### Based on your chart experiments, define three hypothetical statements from the dataset. In the next three questions, perform hypothesis testing to obtain final conclusion about the statements through your code and statistical testing."
   ]
  },
  {
   "cell_type": "markdown",
   "id": "771b933e",
   "metadata": {},
   "source": [
    "Answer - "
   ]
  },
  {
   "cell_type": "code",
   "execution_count": null,
   "id": "5467a552",
   "metadata": {},
   "outputs": [],
   "source": []
  }
 ],
 "metadata": {
  "kernelspec": {
   "display_name": "Python 3",
   "language": "python",
   "name": "python3"
  },
  "language_info": {
   "codemirror_mode": {
    "name": "ipython",
    "version": 3
   },
   "file_extension": ".py",
   "mimetype": "text/x-python",
   "name": "python",
   "nbconvert_exporter": "python",
   "pygments_lexer": "ipython3",
   "version": "3.11.13"
  }
 },
 "nbformat": 4,
 "nbformat_minor": 5
}
